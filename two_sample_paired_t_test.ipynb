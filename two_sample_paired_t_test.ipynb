{
  "nbformat": 4,
  "nbformat_minor": 0,
  "metadata": {
    "colab": {
      "provenance": []
    },
    "kernelspec": {
      "name": "python3",
      "display_name": "Python 3"
    },
    "language_info": {
      "name": "python"
    }
  },
  "cells": [
    {
      "cell_type": "code",
      "source": [
        "%pip install pybaseball"
      ],
      "metadata": {
        "colab": {
          "base_uri": "https://localhost:8080/"
        },
        "id": "cln0WVlM5Ziw",
        "outputId": "6c8a792e-2d50-4270-e2b9-050571e63273"
      },
      "execution_count": 1,
      "outputs": [
        {
          "output_type": "stream",
          "name": "stdout",
          "text": [
            "Collecting pybaseball\n",
            "  Downloading pybaseball-2.2.7-py3-none-any.whl.metadata (11 kB)\n",
            "Requirement already satisfied: numpy>=1.13.0 in /usr/local/lib/python3.10/dist-packages (from pybaseball) (1.26.4)\n",
            "Requirement already satisfied: pandas>=1.0.3 in /usr/local/lib/python3.10/dist-packages (from pybaseball) (2.2.3)\n",
            "Requirement already satisfied: beautifulsoup4>=4.4.0 in /usr/local/lib/python3.10/dist-packages (from pybaseball) (4.12.3)\n",
            "Requirement already satisfied: requests>=2.18.1 in /usr/local/lib/python3.10/dist-packages (from pybaseball) (2.32.3)\n",
            "Requirement already satisfied: lxml>=4.2.1 in /usr/local/lib/python3.10/dist-packages (from pybaseball) (4.9.4)\n",
            "Requirement already satisfied: pyarrow>=1.0.1 in /usr/local/lib/python3.10/dist-packages (from pybaseball) (14.0.1)\n",
            "Collecting pygithub>=1.51 (from pybaseball)\n",
            "  Downloading PyGithub-2.4.0-py3-none-any.whl.metadata (3.9 kB)\n",
            "Requirement already satisfied: scipy>=1.4.0 in /usr/local/lib/python3.10/dist-packages (from pybaseball) (1.13.1)\n",
            "Requirement already satisfied: matplotlib>=2.0.0 in /usr/local/lib/python3.10/dist-packages (from pybaseball) (3.7.1)\n",
            "Requirement already satisfied: tqdm>=4.50.0 in /usr/local/lib/python3.10/dist-packages (from pybaseball) (4.66.5)\n",
            "Requirement already satisfied: attrs>=20.3.0 in /usr/local/lib/python3.10/dist-packages (from pybaseball) (24.2.0)\n",
            "Requirement already satisfied: soupsieve>1.2 in /usr/local/lib/python3.10/dist-packages (from beautifulsoup4>=4.4.0->pybaseball) (2.6)\n",
            "Requirement already satisfied: contourpy>=1.0.1 in /usr/local/lib/python3.10/dist-packages (from matplotlib>=2.0.0->pybaseball) (1.3.0)\n",
            "Requirement already satisfied: cycler>=0.10 in /usr/local/lib/python3.10/dist-packages (from matplotlib>=2.0.0->pybaseball) (0.12.1)\n",
            "Requirement already satisfied: fonttools>=4.22.0 in /usr/local/lib/python3.10/dist-packages (from matplotlib>=2.0.0->pybaseball) (4.53.1)\n",
            "Requirement already satisfied: kiwisolver>=1.0.1 in /usr/local/lib/python3.10/dist-packages (from matplotlib>=2.0.0->pybaseball) (1.4.7)\n",
            "Requirement already satisfied: packaging>=20.0 in /usr/local/lib/python3.10/dist-packages (from matplotlib>=2.0.0->pybaseball) (24.1)\n",
            "Requirement already satisfied: pillow>=6.2.0 in /usr/local/lib/python3.10/dist-packages (from matplotlib>=2.0.0->pybaseball) (10.4.0)\n",
            "Requirement already satisfied: pyparsing>=2.3.1 in /usr/local/lib/python3.10/dist-packages (from matplotlib>=2.0.0->pybaseball) (3.1.4)\n",
            "Requirement already satisfied: python-dateutil>=2.7 in /usr/local/lib/python3.10/dist-packages (from matplotlib>=2.0.0->pybaseball) (2.8.2)\n",
            "Requirement already satisfied: pytz>=2020.1 in /usr/local/lib/python3.10/dist-packages (from pandas>=1.0.3->pybaseball) (2024.2)\n",
            "Requirement already satisfied: tzdata>=2022.7 in /usr/local/lib/python3.10/dist-packages (from pandas>=1.0.3->pybaseball) (2024.1)\n",
            "Collecting pynacl>=1.4.0 (from pygithub>=1.51->pybaseball)\n",
            "  Downloading PyNaCl-1.5.0-cp36-abi3-manylinux_2_17_x86_64.manylinux2014_x86_64.manylinux_2_24_x86_64.whl.metadata (8.6 kB)\n",
            "Requirement already satisfied: pyjwt>=2.4.0 in /usr/local/lib/python3.10/dist-packages (from pyjwt[crypto]>=2.4.0->pygithub>=1.51->pybaseball) (2.9.0)\n",
            "Requirement already satisfied: typing-extensions>=4.0.0 in /usr/local/lib/python3.10/dist-packages (from pygithub>=1.51->pybaseball) (4.12.2)\n",
            "Requirement already satisfied: urllib3>=1.26.0 in /usr/local/lib/python3.10/dist-packages (from pygithub>=1.51->pybaseball) (2.0.7)\n",
            "Collecting Deprecated (from pygithub>=1.51->pybaseball)\n",
            "  Downloading Deprecated-1.2.14-py2.py3-none-any.whl.metadata (5.4 kB)\n",
            "Requirement already satisfied: charset-normalizer<4,>=2 in /usr/local/lib/python3.10/dist-packages (from requests>=2.18.1->pybaseball) (3.3.2)\n",
            "Requirement already satisfied: idna<4,>=2.5 in /usr/local/lib/python3.10/dist-packages (from requests>=2.18.1->pybaseball) (3.10)\n",
            "Requirement already satisfied: certifi>=2017.4.17 in /usr/local/lib/python3.10/dist-packages (from requests>=2.18.1->pybaseball) (2024.8.30)\n",
            "Requirement already satisfied: cryptography>=3.4.0 in /usr/local/lib/python3.10/dist-packages (from pyjwt[crypto]>=2.4.0->pygithub>=1.51->pybaseball) (43.0.1)\n",
            "Requirement already satisfied: cffi>=1.4.1 in /usr/local/lib/python3.10/dist-packages (from pynacl>=1.4.0->pygithub>=1.51->pybaseball) (1.17.1)\n",
            "Requirement already satisfied: six>=1.5 in /usr/local/lib/python3.10/dist-packages (from python-dateutil>=2.7->matplotlib>=2.0.0->pybaseball) (1.16.0)\n",
            "Requirement already satisfied: wrapt<2,>=1.10 in /usr/local/lib/python3.10/dist-packages (from Deprecated->pygithub>=1.51->pybaseball) (1.16.0)\n",
            "Requirement already satisfied: pycparser in /usr/local/lib/python3.10/dist-packages (from cffi>=1.4.1->pynacl>=1.4.0->pygithub>=1.51->pybaseball) (2.22)\n",
            "Downloading pybaseball-2.2.7-py3-none-any.whl (426 kB)\n",
            "\u001b[2K   \u001b[90m━━━━━━━━━━━━━━━━━━━━━━━━━━━━━━━━━━━━━━━━\u001b[0m \u001b[32m426.1/426.1 kB\u001b[0m \u001b[31m5.7 MB/s\u001b[0m eta \u001b[36m0:00:00\u001b[0m\n",
            "\u001b[?25hDownloading PyGithub-2.4.0-py3-none-any.whl (362 kB)\n",
            "\u001b[2K   \u001b[90m━━━━━━━━━━━━━━━━━━━━━━━━━━━━━━━━━━━━━━━━\u001b[0m \u001b[32m362.6/362.6 kB\u001b[0m \u001b[31m19.8 MB/s\u001b[0m eta \u001b[36m0:00:00\u001b[0m\n",
            "\u001b[?25hDownloading PyNaCl-1.5.0-cp36-abi3-manylinux_2_17_x86_64.manylinux2014_x86_64.manylinux_2_24_x86_64.whl (856 kB)\n",
            "\u001b[2K   \u001b[90m━━━━━━━━━━━━━━━━━━━━━━━━━━━━━━━━━━━━━━━━\u001b[0m \u001b[32m856.7/856.7 kB\u001b[0m \u001b[31m25.9 MB/s\u001b[0m eta \u001b[36m0:00:00\u001b[0m\n",
            "\u001b[?25hDownloading Deprecated-1.2.14-py2.py3-none-any.whl (9.6 kB)\n",
            "Installing collected packages: Deprecated, pynacl, pygithub, pybaseball\n",
            "Successfully installed Deprecated-1.2.14 pybaseball-2.2.7 pygithub-2.4.0 pynacl-1.5.0\n"
          ]
        }
      ]
    },
    {
      "cell_type": "code",
      "source": [
        "import pandas as pd\n",
        "import numpy as np\n",
        "import matplotlib.pyplot as plt\n",
        "\n",
        "from scipy import stats\n",
        "from pybaseball import batting_stats"
      ],
      "metadata": {
        "id": "ISRt6web8jJ_"
      },
      "execution_count": 12,
      "outputs": []
    },
    {
      "cell_type": "code",
      "source": [
        "batting_2023 = batting_stats(2023)\n",
        "batting_2022 = batting_stats(2022)\n",
        "\n",
        "batting_2023 = batting_2023[['Name','R']]\n",
        "batting_2022 = batting_2022[['Name','R']]\n",
        "\n",
        "paired_data = pd.merge(batting_2022, batting_2023, on='Name', suffixes=('_2022', '_2023'), how='outer')\n",
        "\n",
        "print(len(paired_data))\n",
        "paired_data.head()"
      ],
      "metadata": {
        "colab": {
          "base_uri": "https://localhost:8080/",
          "height": 224
        },
        "id": "A1lgcwMe5fOK",
        "outputId": "96126754-57cd-4c6a-eb8d-1901bf593984"
      },
      "execution_count": 6,
      "outputs": [
        {
          "output_type": "stream",
          "name": "stdout",
          "text": [
            "178\n"
          ]
        },
        {
          "output_type": "execute_result",
          "data": {
            "text/plain": [
              "              Name  R_2022  R_2023\n",
              "0     A.J. Pollock    61.0     NaN\n",
              "1      Aaron Judge   133.0     NaN\n",
              "2     Adam Frazier    61.0     NaN\n",
              "3  Adley Rutschman     NaN    84.0\n",
              "4    Adolis Garcia    88.0   108.0"
            ],
            "text/html": [
              "\n",
              "  <div id=\"df-85e2c369-44ab-4796-ae2c-2bc85da464ca\" class=\"colab-df-container\">\n",
              "    <div>\n",
              "<style scoped>\n",
              "    .dataframe tbody tr th:only-of-type {\n",
              "        vertical-align: middle;\n",
              "    }\n",
              "\n",
              "    .dataframe tbody tr th {\n",
              "        vertical-align: top;\n",
              "    }\n",
              "\n",
              "    .dataframe thead th {\n",
              "        text-align: right;\n",
              "    }\n",
              "</style>\n",
              "<table border=\"1\" class=\"dataframe\">\n",
              "  <thead>\n",
              "    <tr style=\"text-align: right;\">\n",
              "      <th></th>\n",
              "      <th>Name</th>\n",
              "      <th>R_2022</th>\n",
              "      <th>R_2023</th>\n",
              "    </tr>\n",
              "  </thead>\n",
              "  <tbody>\n",
              "    <tr>\n",
              "      <th>0</th>\n",
              "      <td>A.J. Pollock</td>\n",
              "      <td>61.0</td>\n",
              "      <td>NaN</td>\n",
              "    </tr>\n",
              "    <tr>\n",
              "      <th>1</th>\n",
              "      <td>Aaron Judge</td>\n",
              "      <td>133.0</td>\n",
              "      <td>NaN</td>\n",
              "    </tr>\n",
              "    <tr>\n",
              "      <th>2</th>\n",
              "      <td>Adam Frazier</td>\n",
              "      <td>61.0</td>\n",
              "      <td>NaN</td>\n",
              "    </tr>\n",
              "    <tr>\n",
              "      <th>3</th>\n",
              "      <td>Adley Rutschman</td>\n",
              "      <td>NaN</td>\n",
              "      <td>84.0</td>\n",
              "    </tr>\n",
              "    <tr>\n",
              "      <th>4</th>\n",
              "      <td>Adolis Garcia</td>\n",
              "      <td>88.0</td>\n",
              "      <td>108.0</td>\n",
              "    </tr>\n",
              "  </tbody>\n",
              "</table>\n",
              "</div>\n",
              "    <div class=\"colab-df-buttons\">\n",
              "      \n",
              "  <div class=\"colab-df-container\">\n",
              "    <button class=\"colab-df-convert\" onclick=\"convertToInteractive('df-85e2c369-44ab-4796-ae2c-2bc85da464ca')\"\n",
              "            title=\"Convert this dataframe to an interactive table.\"\n",
              "            style=\"display:none;\">\n",
              "      \n",
              "  <svg xmlns=\"http://www.w3.org/2000/svg\" height=\"24px\" viewBox=\"0 -960 960 960\">\n",
              "    <path d=\"M120-120v-720h720v720H120Zm60-500h600v-160H180v160Zm220 220h160v-160H400v160Zm0 220h160v-160H400v160ZM180-400h160v-160H180v160Zm440 0h160v-160H620v160ZM180-180h160v-160H180v160Zm440 0h160v-160H620v160Z\"/>\n",
              "  </svg>\n",
              "    </button>\n",
              "    \n",
              "  <style>\n",
              "    .colab-df-container {\n",
              "      display:flex;\n",
              "      gap: 12px;\n",
              "    }\n",
              "\n",
              "    .colab-df-convert {\n",
              "      background-color: #E8F0FE;\n",
              "      border: none;\n",
              "      border-radius: 50%;\n",
              "      cursor: pointer;\n",
              "      display: none;\n",
              "      fill: #1967D2;\n",
              "      height: 32px;\n",
              "      padding: 0 0 0 0;\n",
              "      width: 32px;\n",
              "    }\n",
              "\n",
              "    .colab-df-convert:hover {\n",
              "      background-color: #E2EBFA;\n",
              "      box-shadow: 0px 1px 2px rgba(60, 64, 67, 0.3), 0px 1px 3px 1px rgba(60, 64, 67, 0.15);\n",
              "      fill: #174EA6;\n",
              "    }\n",
              "\n",
              "    .colab-df-buttons div {\n",
              "      margin-bottom: 4px;\n",
              "    }\n",
              "\n",
              "    [theme=dark] .colab-df-convert {\n",
              "      background-color: #3B4455;\n",
              "      fill: #D2E3FC;\n",
              "    }\n",
              "\n",
              "    [theme=dark] .colab-df-convert:hover {\n",
              "      background-color: #434B5C;\n",
              "      box-shadow: 0px 1px 3px 1px rgba(0, 0, 0, 0.15);\n",
              "      filter: drop-shadow(0px 1px 2px rgba(0, 0, 0, 0.3));\n",
              "      fill: #FFFFFF;\n",
              "    }\n",
              "  </style>\n",
              "\n",
              "    <script>\n",
              "      const buttonEl =\n",
              "        document.querySelector('#df-85e2c369-44ab-4796-ae2c-2bc85da464ca button.colab-df-convert');\n",
              "      buttonEl.style.display =\n",
              "        google.colab.kernel.accessAllowed ? 'block' : 'none';\n",
              "\n",
              "      async function convertToInteractive(key) {\n",
              "        const element = document.querySelector('#df-85e2c369-44ab-4796-ae2c-2bc85da464ca');\n",
              "        const dataTable =\n",
              "          await google.colab.kernel.invokeFunction('convertToInteractive',\n",
              "                                                    [key], {});\n",
              "        if (!dataTable) return;\n",
              "\n",
              "        const docLinkHtml = 'Like what you see? Visit the ' +\n",
              "          '<a target=\"_blank\" href=https://colab.research.google.com/notebooks/data_table.ipynb>data table notebook</a>'\n",
              "          + ' to learn more about interactive tables.';\n",
              "        element.innerHTML = '';\n",
              "        dataTable['output_type'] = 'display_data';\n",
              "        await google.colab.output.renderOutput(dataTable, element);\n",
              "        const docLink = document.createElement('div');\n",
              "        docLink.innerHTML = docLinkHtml;\n",
              "        element.appendChild(docLink);\n",
              "      }\n",
              "    </script>\n",
              "  </div>\n",
              "  \n",
              "    </div>\n",
              "  </div>\n",
              "  "
            ]
          },
          "metadata": {},
          "execution_count": 6
        }
      ]
    },
    {
      "cell_type": "code",
      "source": [
        "# delete nans\n",
        "\n",
        "print(len(paired_data))\n",
        "paired_data = paired_data.dropna(subset=['R_2022', 'R_2023'])\n",
        "print(len(paired_data))"
      ],
      "metadata": {
        "colab": {
          "base_uri": "https://localhost:8080/"
        },
        "id": "ucWu_G2W7CmV",
        "outputId": "c5a148ca-17d7-4ef1-d587-0441924b02f4"
      },
      "execution_count": 7,
      "outputs": [
        {
          "output_type": "stream",
          "name": "stdout",
          "text": [
            "178\n",
            "86\n"
          ]
        }
      ]
    },
    {
      "cell_type": "code",
      "source": [
        "mean_2022 = np.mean(paired_data['R_2022'])\n",
        "mean_2023 = np.mean(paired_data['R_2023'])\n",
        "print(f'Mean 2022: {mean_2022}')\n",
        "print(f'Mean 2023: {mean_2023}')"
      ],
      "metadata": {
        "colab": {
          "base_uri": "https://localhost:8080/"
        },
        "id": "ZtrtlZxj-fyn",
        "outputId": "d995cd9f-51c9-4a8b-ea53-7d84a08db82a"
      },
      "execution_count": 18,
      "outputs": [
        {
          "output_type": "stream",
          "name": "stdout",
          "text": [
            "Mean 2022: 78.55813953488372\n",
            "Mean 2023: 83.46511627906976\n"
          ]
        }
      ]
    },
    {
      "cell_type": "code",
      "source": [
        "# Create histogram\n",
        "plt.figure(figsize=(10, 6))\n",
        "plt.hist(paired_data['R_2022'], bins=30, alpha=0.5, label='Runs 2022', color='blue', edgecolor='black')\n",
        "plt.hist(paired_data['R_2023'], bins=30, alpha=0.5, label='Runs 2023', color='orange', edgecolor='black')\n",
        "\n",
        "# Add labels and title\n",
        "plt.xlabel('Number of Runs')\n",
        "plt.ylabel('Frequency')\n",
        "plt.title('Histogram of Runs Scored in 2022 and 2023')\n",
        "plt.legend()\n",
        "plt.grid()\n",
        "\n",
        "# Show the plot\n",
        "plt.show()"
      ],
      "metadata": {
        "colab": {
          "base_uri": "https://localhost:8080/",
          "height": 564
        },
        "id": "GQEraLFk-aWB",
        "outputId": "09dbce6b-7fb8-45bd-8dc8-54734e2d0221"
      },
      "execution_count": 17,
      "outputs": [
        {
          "output_type": "display_data",
          "data": {
            "text/plain": [
              "<Figure size 1000x600 with 1 Axes>"
            ],
            "image/png": "[encoded data removed]"
          },
          "metadata": {}
        }
      ]
    },
    {
      "cell_type": "code",
      "source": [
        "# Create histogram\n",
        "plt.figure(figsize=(10, 6))\n",
        "plt.hist(paired_data['R_2022'] - paired_data['R_2023'], bins=30, alpha=0.5, label='Difference', color='blue', edgecolor='black')\n",
        "\n",
        "# Add labels and title\n",
        "plt.xlabel('Number of Runs')\n",
        "plt.ylabel('Frequency')\n",
        "plt.title('Histogram of Difference in Runs Scored in 2022 and 2023')\n",
        "plt.legend()\n",
        "plt.grid()\n",
        "\n",
        "# Show the plot\n",
        "plt.show()"
      ],
      "metadata": {
        "colab": {
          "base_uri": "https://localhost:8080/",
          "height": 564
        },
        "id": "OJz1pTBF-jkb",
        "outputId": "c41a4f16-9452-4cf4-fbd6-92698c72443b"
      },
      "execution_count": 19,
      "outputs": [
        {
          "output_type": "display_data",
          "data": {
            "text/plain": [
              "<Figure size 1000x600 with 1 Axes>"
            ],
            "image/png": "[encoded data removed]"
          },
          "metadata": {}
        }
      ]
    },
    {
      "cell_type": "markdown",
      "source": [
        "Assume the differences are normally distributed. The null hypothesis is that players scored the same number of runs in 2022 as 2023. The alternate hypothesis is that players scored different number of runs in 2022 as 2023. For this test we will use a two tailed t test."
      ],
      "metadata": {
        "id": "RB0YwsX0gVVN"
      }
    },
    {
      "cell_type": "code",
      "source": [
        "differences = paired_data['R_2022'] - paired_data['R_2023']\n",
        "\n",
        "mean_diff = np.mean(differences)\n",
        "std_diff = np.std(differences, ddof=1)  # Sample standard deviation\n",
        "n = len(differences)\n",
        "\n",
        "t_statistic = mean_diff / (std_diff / np.sqrt(n))\n",
        "\n",
        "# Two-tailed t-test\n",
        "#p_value = 2 * (1 - stats.t.cdf(abs(t_statistic), df=len(differences) - 1))\n",
        "\n",
        "# Left-tailed t-test\n",
        "#p_value = stats.t.cdf(t_statistic, df=len(differences) - 1)\n",
        "\n",
        "# Right-tailed t-test\n",
        "p_value = 1 - stats.t.cdf(t_statistic, df=len(differences) - 1)\n",
        "\n",
        "print(f'Mean diff: {mean_diff}')\n",
        "print(f'T-statistic: {t_statistic}')\n",
        "print(f'P-value: {p_value}')"
      ],
      "metadata": {
        "colab": {
          "base_uri": "https://localhost:8080/"
        },
        "id": "PR_-8T0reaLJ",
        "outputId": "f4290714-c502-448f-f37d-fa586872c2bf"
      },
      "execution_count": 20,
      "outputs": [
        {
          "output_type": "stream",
          "name": "stdout",
          "text": [
            "Mean diff: -4.906976744186046\n",
            "T-statistic: -2.36649526184564\n",
            "P-value: 0.9898847464091622\n"
          ]
        }
      ]
    },
    {
      "cell_type": "markdown",
      "source": [
        "Since the p value is less than the significance level of 0.05 we reject the null hypothesis. Players who played in both years scored more runs in 2023 than 2022."
      ],
      "metadata": {
        "id": "uOErTKL4hrwY"
      }
    },
    {
      "cell_type": "code",
      "source": [],
      "metadata": {
        "id": "0mh3Bu4O9z-9"
      },
      "execution_count": null,
      "outputs": []
    }
  ]
}