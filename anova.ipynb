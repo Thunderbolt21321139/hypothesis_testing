{
  "nbformat": 4,
  "nbformat_minor": 0,
  "metadata": {
    "colab": {
      "provenance": []
    },
    "kernelspec": {
      "name": "python3",
      "display_name": "Python 3"
    },
    "language_info": {
      "name": "python"
    }
  },
  "cells": [
    {
      "cell_type": "code",
      "source": [
        "%pip install pingouin"
      ],
      "metadata": {
        "colab": {
          "base_uri": "https://localhost:8080/"
        },
        "id": "2ypVQ7bzuZo4",
        "outputId": "cd72d1e7-a0cc-4ff9-9cb4-002af8c8baf5"
      },
      "execution_count": 13,
      "outputs": [
        {
          "output_type": "stream",
          "name": "stdout",
          "text": [
            "Collecting pingouin\n",
            "  Downloading pingouin-0.5.5-py3-none-any.whl.metadata (19 kB)\n",
            "Requirement already satisfied: matplotlib in /usr/local/lib/python3.10/dist-packages (from pingouin) (3.7.1)\n",
            "Requirement already satisfied: numpy in /usr/local/lib/python3.10/dist-packages (from pingouin) (1.26.4)\n",
            "Requirement already satisfied: pandas>=1.5 in /usr/local/lib/python3.10/dist-packages (from pingouin) (2.1.4)\n",
            "Collecting pandas-flavor (from pingouin)\n",
            "  Downloading pandas_flavor-0.6.0-py3-none-any.whl.metadata (6.3 kB)\n",
            "Requirement already satisfied: scikit-learn>=1.2 in /usr/local/lib/python3.10/dist-packages (from pingouin) (1.3.2)\n",
            "Requirement already satisfied: scipy in /usr/local/lib/python3.10/dist-packages (from pingouin) (1.13.1)\n",
            "Requirement already satisfied: seaborn in /usr/local/lib/python3.10/dist-packages (from pingouin) (0.13.1)\n",
            "Requirement already satisfied: statsmodels in /usr/local/lib/python3.10/dist-packages (from pingouin) (0.14.3)\n",
            "Requirement already satisfied: tabulate in /usr/local/lib/python3.10/dist-packages (from pingouin) (0.9.0)\n",
            "Requirement already satisfied: python-dateutil>=2.8.2 in /usr/local/lib/python3.10/dist-packages (from pandas>=1.5->pingouin) (2.8.2)\n",
            "Requirement already satisfied: pytz>=2020.1 in /usr/local/lib/python3.10/dist-packages (from pandas>=1.5->pingouin) (2024.2)\n",
            "Requirement already satisfied: tzdata>=2022.1 in /usr/local/lib/python3.10/dist-packages (from pandas>=1.5->pingouin) (2024.1)\n",
            "Requirement already satisfied: joblib>=1.1.1 in /usr/local/lib/python3.10/dist-packages (from scikit-learn>=1.2->pingouin) (1.4.2)\n",
            "Requirement already satisfied: threadpoolctl>=2.0.0 in /usr/local/lib/python3.10/dist-packages (from scikit-learn>=1.2->pingouin) (3.5.0)\n",
            "Requirement already satisfied: contourpy>=1.0.1 in /usr/local/lib/python3.10/dist-packages (from matplotlib->pingouin) (1.3.0)\n",
            "Requirement already satisfied: cycler>=0.10 in /usr/local/lib/python3.10/dist-packages (from matplotlib->pingouin) (0.12.1)\n",
            "Requirement already satisfied: fonttools>=4.22.0 in /usr/local/lib/python3.10/dist-packages (from matplotlib->pingouin) (4.53.1)\n",
            "Requirement already satisfied: kiwisolver>=1.0.1 in /usr/local/lib/python3.10/dist-packages (from matplotlib->pingouin) (1.4.7)\n",
            "Requirement already satisfied: packaging>=20.0 in /usr/local/lib/python3.10/dist-packages (from matplotlib->pingouin) (24.1)\n",
            "Requirement already satisfied: pillow>=6.2.0 in /usr/local/lib/python3.10/dist-packages (from matplotlib->pingouin) (10.4.0)\n",
            "Requirement already satisfied: pyparsing>=2.3.1 in /usr/local/lib/python3.10/dist-packages (from matplotlib->pingouin) (3.1.4)\n",
            "Requirement already satisfied: xarray in /usr/local/lib/python3.10/dist-packages (from pandas-flavor->pingouin) (2024.9.0)\n",
            "Requirement already satisfied: patsy>=0.5.6 in /usr/local/lib/python3.10/dist-packages (from statsmodels->pingouin) (0.5.6)\n",
            "Requirement already satisfied: six in /usr/local/lib/python3.10/dist-packages (from patsy>=0.5.6->statsmodels->pingouin) (1.16.0)\n",
            "Downloading pingouin-0.5.5-py3-none-any.whl (204 kB)\n",
            "\u001b[2K   \u001b[90m━━━━━━━━━━━━━━━━━━━━━━━━━━━━━━━━━━━━━━━━\u001b[0m \u001b[32m204.4/204.4 kB\u001b[0m \u001b[31m6.2 MB/s\u001b[0m eta \u001b[36m0:00:00\u001b[0m\n",
            "\u001b[?25hDownloading pandas_flavor-0.6.0-py3-none-any.whl (7.2 kB)\n",
            "Installing collected packages: pandas-flavor, pingouin\n",
            "Successfully installed pandas-flavor-0.6.0 pingouin-0.5.5\n"
          ]
        }
      ]
    },
    {
      "cell_type": "code",
      "execution_count": 1,
      "metadata": {
        "id": "eNaJ-eberrMS"
      },
      "outputs": [],
      "source": [
        "import seaborn as sns\n",
        "import pandas as pd\n",
        "import numpy as np\n",
        "from scipy import stats"
      ]
    },
    {
      "cell_type": "code",
      "source": [
        "penguins = sns.load_dataset(\"penguins\")\n",
        "penguins = penguins.dropna()"
      ],
      "metadata": {
        "id": "hhk7MEIvsP9i"
      },
      "execution_count": 3,
      "outputs": []
    },
    {
      "cell_type": "code",
      "source": [
        "import pingouin as pg\n",
        "\n",
        "anova_results = pg.anova(dv='flipper_length_mm', between='species', data=penguins, detailed=True)\n",
        "print(anova_results)"
      ],
      "metadata": {
        "colab": {
          "base_uri": "https://localhost:8080/"
        },
        "id": "ZoRMCsNEueiI",
        "outputId": "cd630107-7e7d-431a-dc13-393465610557"
      },
      "execution_count": 14,
      "outputs": [
        {
          "output_type": "stream",
          "name": "stdout",
          "text": [
            "    Source            SS   DF            MS           F          p-unc  \\\n",
            "0  species  50525.883615    2  25262.941807  567.406992  1.587418e-107   \n",
            "1   Within  14692.753022  330     44.523494         NaN            NaN   \n",
            "\n",
            "        np2  \n",
            "0  0.774715  \n",
            "1       NaN  \n"
          ]
        }
      ]
    },
    {
      "cell_type": "code",
      "source": [
        "overall_mean = penguins['flipper_length_mm'].mean()\n",
        "group_means = penguins.groupby('species')['flipper_length_mm'].mean()\n",
        "group_sizes = penguins.groupby('species')['flipper_length_mm'].size()\n",
        "\n",
        "SSB = sum((group_means - overall_mean)**2 * group_sizes)\n",
        "SSW = sum(((penguins[penguins['species'] == species]['flipper_length_mm'] - group_means[species])**2).sum() for species in group_means.index)\n",
        "\n",
        "df_between = len(group_means) - 1\n",
        "df_within = len(penguins) - len(group_means)\n",
        "\n",
        "MSB = SSB / df_between\n",
        "MSW = SSW / df_within\n",
        "\n",
        "F_statistic = MSB / MSW\n",
        "p_value = 1 - stats.f.cdf(F_statistic, df_between, df_within)\n",
        "\n",
        "print(\"SSB:\", SSB)\n",
        "print(\"SSW:\", SSW)\n",
        "print(\"df_between:\", df_between)\n",
        "print(\"df_within:\", df_within)\n",
        "print(\"MSB:\", MSB)\n",
        "print(\"MSW:\", MSW)\n",
        "print(\"F-statistic:\", F_statistic)\n",
        "print(\"p-value:\", p_value)\n",
        "\n",
        "# Conclusion based on p-value\n",
        "alpha = 0.05\n",
        "if p_value < alpha:\n",
        "    print(\"Reject the null hypothesis. Significant differences exist between groups.\")\n",
        "else:\n",
        "    print(\"Fail to reject the null hypothesis. No significant differences between groups.\")"
      ],
      "metadata": {
        "colab": {
          "base_uri": "https://localhost:8080/"
        },
        "id": "PkTIHTQ7sR4A",
        "outputId": "5cae5972-2e38-4384-d848-77a0e335e4c1"
      },
      "execution_count": 16,
      "outputs": [
        {
          "output_type": "stream",
          "name": "stdout",
          "text": [
            "SSB: 50525.88361488001\n",
            "SSW: 14692.753021756647\n",
            "df_between: 2\n",
            "df_within: 330\n",
            "MSB: 25262.941807440006\n",
            "MSW: 44.52349400532317\n",
            "F-statistic: 567.4069920123429\n",
            "p-value: 1.1102230246251565e-16\n",
            "Reject the null hypothesis. Significant differences exist between groups.\n"
          ]
        }
      ]
    },
    {
      "cell_type": "code",
      "source": [
        "# Perform pairwise t-tests with Bonferroni correction\n",
        "\n",
        "pairwise_results = pg.pairwise_ttests(dv='flipper_length_mm', between='species', padjust='bonf', data=penguins)\n",
        "print(pairwise_results)"
      ],
      "metadata": {
        "colab": {
          "base_uri": "https://localhost:8080/"
        },
        "id": "mkBom5dByB8d",
        "outputId": "937954f0-d939-4c1c-8e9e-a9ba4be6fff8"
      },
      "execution_count": 22,
      "outputs": [
        {
          "output_type": "stream",
          "name": "stdout",
          "text": [
            "  Contrast          A          B  Paired  Parametric          T         dof  \\\n",
            "0  species     Adelie  Chinstrap   False        True  -5.611507  120.880833   \n",
            "1  species     Adelie     Gentoo   False        True -33.505504  251.350932   \n",
            "2  species  Chinstrap     Gentoo   False        True -20.300894  130.589892   \n",
            "\n",
            "  alternative         p-unc        p-corr p-adjust       BF10    hedges  \n",
            "0   two-sided  1.296589e-07  3.889767e-07     bonf  1.828e+05 -0.848215  \n",
            "1   two-sided  1.082642e-94  3.247927e-94     bonf  7.284e+92 -4.130274  \n",
            "2   two-sided  3.208572e-42  9.625717e-42     bonf  1.838e+45 -3.141355  \n"
          ]
        },
        {
          "output_type": "stream",
          "name": "stderr",
          "text": [
            "/usr/local/lib/python3.10/dist-packages/pingouin/pairwise.py:28: UserWarning: pairwise_ttests is deprecated, use pairwise_tests instead.\n",
            "  warnings.warn(\"pairwise_ttests is deprecated, use pairwise_tests instead.\", UserWarning)\n"
          ]
        }
      ]
    },
    {
      "cell_type": "code",
      "source": [
        "1.296589e-07*3"
      ],
      "metadata": {
        "colab": {
          "base_uri": "https://localhost:8080/"
        },
        "id": "bYRqVIdayRSa",
        "outputId": "c3dc74ea-28af-4b6d-efdf-715bbf940642"
      },
      "execution_count": 24,
      "outputs": [
        {
          "output_type": "execute_result",
          "data": {
            "text/plain": [
              "3.8897669999999997e-07"
            ]
          },
          "metadata": {},
          "execution_count": 24
        }
      ]
    },
    {
      "cell_type": "code",
      "source": [
        "# pairwise testing\n",
        "\n",
        "group_stats = penguins.groupby('species')['flipper_length_mm'].agg(['mean', 'var', 'size']).reset_index()\n",
        "print(group_stats)"
      ],
      "metadata": {
        "colab": {
          "base_uri": "https://localhost:8080/"
        },
        "id": "kheOXkfHtk_2",
        "outputId": "24476d9d-85c8-4971-c5be-d0f830ea523f"
      },
      "execution_count": 29,
      "outputs": [
        {
          "output_type": "stream",
          "name": "stdout",
          "text": [
            "     species        mean        var  size\n",
            "0     Adelie  190.102740  42.534199   146\n",
            "1  Chinstrap  195.823529  50.863916    68\n",
            "2     Gentoo  217.235294  43.367896   119\n"
          ]
        }
      ]
    },
    {
      "cell_type": "code",
      "source": [
        "from scipy import stats\n",
        "import itertools\n",
        "\n",
        "def manual_ttest(mean1, var1, n1, mean2, var2, n2):\n",
        "    # Calculate the t-statistic\n",
        "    t_stat = (mean1 - mean2) / np.sqrt(var1/n1 + var2/n2)\n",
        "\n",
        "    # Degrees of freedom (Welch-Satterthwaite equation for unequal variances)\n",
        "    df = ((var1/n1 + var2/n2)**2) / (((var1/n1)**2 / (n1-1)) + ((var2/n2)**2 / (n2-1)))\n",
        "\n",
        "    # Two-tailed p-value\n",
        "    p_value = 2 * (1 - stats.t.cdf(np.abs(t_stat), df))\n",
        "\n",
        "    return t_stat, p_value, df\n",
        "\n",
        "results = []\n",
        "\n",
        "# Get all unique pairs of species\n",
        "pairs = list(itertools.combinations(group_stats['species'], 2))\n",
        "\n",
        "# Perform t-tests for all pairs\n",
        "for species1, species2 in pairs:\n",
        "    group1 = group_stats.loc[group_stats['species'] == species1].iloc[0]\n",
        "    group2 = group_stats.loc[group_stats['species'] == species2].iloc[0]\n",
        "\n",
        "    t_stat, p_value, dof = manual_ttest(\n",
        "        group1['mean'], group1['var'], group1['size'],\n",
        "        group2['mean'], group2['var'], group2['size']\n",
        "    )\n",
        "\n",
        "    results.append({\n",
        "        'Group 1': species1,\n",
        "        'Mean 1': group1['mean'],\n",
        "        'Variance 1': group1['var'],\n",
        "        'Size 1': group1['size'],\n",
        "        'Group 2': species2,\n",
        "        'Mean 2': group2['mean'],\n",
        "        'Variance 2': group2['var'],\n",
        "        'Size 2': group2['size'],\n",
        "        't-statistic': t_stat,\n",
        "        'degrees of freedom': dof,\n",
        "        'p-value': p_value,\n",
        "        'bonferroni p-value': min(p_value * len(pairs), 1)\n",
        "    })\n",
        "\n",
        "# Create a DataFrame to display the results\n",
        "results_df = pd.DataFrame(results)\n",
        "print(results_df)"
      ],
      "metadata": {
        "colab": {
          "base_uri": "https://localhost:8080/"
        },
        "id": "b-_qhmFYxH8W",
        "outputId": "066b084b-373f-4b73-bcc8-e59a35329cc9"
      },
      "execution_count": 32,
      "outputs": [
        {
          "output_type": "stream",
          "name": "stdout",
          "text": [
            "     Group 1      Mean 1  Variance 1  Size 1    Group 2      Mean 2  \\\n",
            "0     Adelie  190.102740   42.534199     146  Chinstrap  195.823529   \n",
            "1     Adelie  190.102740   42.534199     146     Gentoo  217.235294   \n",
            "2  Chinstrap  195.823529   50.863916      68     Gentoo  217.235294   \n",
            "\n",
            "   Variance 2  Size 2  t-statistic  degrees of freedom       p-value  \\\n",
            "0   50.863916      68    -5.611507          120.880833  1.296589e-07   \n",
            "1   43.367896     119   -33.505504          251.350932  0.000000e+00   \n",
            "2   43.367896     119   -20.300894          130.589892  0.000000e+00   \n",
            "\n",
            "   bonferroni p-value  \n",
            "0        3.889767e-07  \n",
            "1        0.000000e+00  \n",
            "2        0.000000e+00  \n"
          ]
        }
      ]
    },
    {
      "cell_type": "markdown",
      "source": [
        "All penguin species have different flipper lengths at the 5% significance level."
      ],
      "metadata": {
        "id": "I-d7qzNW0Us6"
      }
    },
    {
      "cell_type": "code",
      "source": [],
      "metadata": {
        "id": "vj1zge87zlj6"
      },
      "execution_count": null,
      "outputs": []
    }
  ]
}